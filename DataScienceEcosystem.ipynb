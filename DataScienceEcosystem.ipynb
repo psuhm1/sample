{
 "cells": [
  {
   "cell_type": "markdown",
   "id": "9eb9f492-2761-44e5-882e-87579449e3ff",
   "metadata": {},
   "source": [
    "# Data Science Tools and Ecosystem"
   ]
  },
  {
   "cell_type": "markdown",
   "id": "e431b9f5-e65a-4278-8edc-848f3719eb11",
   "metadata": {},
   "source": [
    "In this notebook, Data Science Tools and Ecosystem are summarized."
   ]
  },
  {
   "cell_type": "markdown",
   "id": "15470ee5-9df7-4072-abd5-65f51f889642",
   "metadata": {},
   "source": [
    "Some of the popular languages that Data Scientists use are"
   ]
  },
  {
   "cell_type": "markdown",
   "id": "c115a1c5-ed1b-4418-9970-eba46b97db8d",
   "metadata": {},
   "source": [
    "1. python\n",
    "2. R\n",
    "3. Scala\n",
    "4. Julia"
   ]
  },
  {
   "cell_type": "markdown",
   "id": "7196f07f-e2f4-4d33-a063-8b6ad3937e44",
   "metadata": {},
   "source": [
    "Some of the commonly used libraries used by Data Scientists include"
   ]
  },
  {
   "cell_type": "markdown",
   "id": "39167372-050b-4a95-8b72-d51ad3daf289",
   "metadata": {},
   "source": [
    "1. Tensor Flow\n",
    "1. Numpy\n",
    "1. Mathplotlib\n",
    "1. Pandas\n",
    "1. PyTorch\n",
    "1. SciKit-Learn"
   ]
  },
  {
   "cell_type": "markdown",
   "id": "274f75e4-517e-4360-91e2-3ae6cae04678",
   "metadata": {
    "tags": []
   },
   "source": [
    "| Data Scientist Tools |\n",
    "|----------------------|\n",
    "|Hadoop|\n",
    "|Spark|\n",
    "|KNIME|\n"
   ]
  },
  {
   "cell_type": "markdown",
   "id": "916a8e89-e578-4c0c-887e-249de2d8a099",
   "metadata": {},
   "source": [
    "Below are a few examples of evaluating arithmetic expressions in Python\n",
    "### x + y\n",
    "### (x*3)+y*(1+z)\n",
    "### x > y"
   ]
  },
  {
   "cell_type": "markdown",
   "id": "bae47cab-eefb-4c45-a850-17a236bd7e85",
   "metadata": {},
   "source": [
    "This a simple arithmetic expression to mutiply then add integers"
   ]
  },
  {
   "cell_type": "code",
   "execution_count": 2,
   "id": "2f141f34-f214-4440-9e0b-62dfc74be785",
   "metadata": {
    "tags": []
   },
   "outputs": [
    {
     "data": {
      "text/plain": [
       "17"
      ]
     },
     "execution_count": 2,
     "metadata": {},
     "output_type": "execute_result"
    }
   ],
   "source": [
    "(3*4)+5"
   ]
  },
  {
   "cell_type": "markdown",
   "id": "3d6593bd-b333-465a-905a-2ed6f84162c2",
   "metadata": {},
   "source": [
    "This will convert 200 minutes to hours by diving by 60"
   ]
  },
  {
   "cell_type": "code",
   "execution_count": 3,
   "id": "30ff7250-7136-4380-88c2-ded48045c7b6",
   "metadata": {
    "tags": []
   },
   "outputs": [
    {
     "data": {
      "text/plain": [
       "3.3333333333333335"
      ]
     },
     "execution_count": 3,
     "metadata": {},
     "output_type": "execute_result"
    }
   ],
   "source": [
    "200/60"
   ]
  },
  {
   "cell_type": "markdown",
   "id": "c0904639-1ebe-4a1b-a4a8-1129cb166936",
   "metadata": {},
   "source": [
    "**Objectives**\n",
    "- python\n",
    "- R\n",
    "- Scala\n",
    "- Julia"
   ]
  },
  {
   "cell_type": "markdown",
   "id": "83b344a8-fd68-4f25-a32b-f12a5040b38a",
   "metadata": {},
   "source": [
    "## Author ##\n",
    "Peter Suh"
   ]
  },
  {
   "cell_type": "markdown",
   "id": "995f82ca-3045-4fa3-9e31-af0ff7d81c1d",
   "metadata": {},
   "source": []
  }
 ],
 "metadata": {
  "kernelspec": {
   "display_name": "Python",
   "language": "python",
   "name": "conda-env-python-py"
  },
  "language_info": {
   "codemirror_mode": {
    "name": "ipython",
    "version": 3
   },
   "file_extension": ".py",
   "mimetype": "text/x-python",
   "name": "python",
   "nbconvert_exporter": "python",
   "pygments_lexer": "ipython3",
   "version": "3.7.12"
  }
 },
 "nbformat": 4,
 "nbformat_minor": 5
}
